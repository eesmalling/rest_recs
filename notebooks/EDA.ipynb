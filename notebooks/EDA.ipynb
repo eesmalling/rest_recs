{
 "cells": [
  {
   "cell_type": "code",
   "execution_count": 1,
   "metadata": {
    "collapsed": true,
    "hide": true
   },
   "outputs": [],
   "source": [
    "import pandas as pd\n",
    "import numpy as np\n",
    "import matplotlib\n",
    "import matplotlib.pyplot as plt\n",
    "import seaborn.apionly as sns\n",
    "import datetime\n",
    "import warnings\n",
    "warnings.filterwarnings('ignore')\n",
    "%matplotlib inline\n",
    "sns.set_context(\"notebook\")"
   ]
  },
  {
   "cell_type": "code",
   "execution_count": 2,
   "metadata": {
    "collapsed": false,
    "hide": true
   },
   "outputs": [],
   "source": [
    "path = \"/Users/eesmalling/Data/project121/\"\n",
    "bns = pd.read_csv(path+\"business_edit.csv\").iloc[:,1:]\n",
    "usr = pd.read_csv(path+\"user_edit.csv\").iloc[:,1:]\n",
    "rvw = pd.read_csv(path+\"review_edit.csv\").iloc[:,1:]"
   ]
  },
  {
   "cell_type": "markdown",
   "metadata": {},
   "source": [
    "## The Dataset\n",
    "Yelp's academic dataset contains 5.79 gigabytes of data, consisting of restaurant review text, photos, and data on users and businesses. For the purposes of our project, we used three of the tables available:\n",
    "\n",
    "+ Business: each row contains information about a single restaurant - name, number of times reviewed, average rating, and location.\n",
    "+ User: each row contains information about a single user who has posted a review - name, number of reviews, the average star-rating provided by the user, types of compliments given, and number of times the user’s review was marked ‘Useful’.\n",
    "+ Review: each row corresponds to a single review - date of review, name of the restaurant, user ID and the star rating provided in the review."
   ]
  },
  {
   "cell_type": "markdown",
   "metadata": {},
   "source": [
    "### Business\n",
    "The business data table consists of 51613 restaurants. While Yelpers can write reviews of businesses around the globe, the dataset is limited to several distinct states and regions. Ontario, Canada makes up the largest share of restaurants, followed by Arizona and Nevada. While some of these states are adjacent to each other, the geographical area covered by the dataset is not continuous."
   ]
  },
  {
   "cell_type": "code",
   "execution_count": 3,
   "metadata": {
    "collapsed": false
   },
   "outputs": [
    {
     "data": {
      "image/png": "[encoded data removed]",
      "text/plain": [
       "<matplotlib.figure.Figure at 0x10cfba080>"
      ]
     },
     "metadata": {},
     "output_type": "display_data"
    }
   ],
   "source": [
    "bns.groupby(['state']).size().sort_values().plot.bar()\n",
    "plt.title('Count of restaurants by state')\n",
    "sns.despine();"
   ]
  },
  {
   "cell_type": "markdown",
   "metadata": {},
   "source": [
    "We also can see below the wide disparity in how many times a restaurant is reviewed. While several popular restaurants were reviewed thousands of times, a large portion of the dataset consists of restaurants only reviewed a couple of times."
   ]
  },
  {
   "cell_type": "code",
   "execution_count": 4,
   "metadata": {
    "collapsed": false
   },
   "outputs": [
    {
     "data": {
      "image/png": "[encoded data removed]",
      "text/plain": [
       "<matplotlib.figure.Figure at 0x116fd48d0>"
      ]
     },
     "metadata": {},
     "output_type": "display_data"
    }
   ],
   "source": [
    "plt.hist(bns['review_count'], bins = 50)\n",
    "plt.yscale('log')\n",
    "plt.title('Histogram for review counts per restaurant')\n",
    "sns.despine();"
   ]
  },
  {
   "cell_type": "code",
   "execution_count": 5,
   "metadata": {
    "collapsed": false
   },
   "outputs": [
    {
     "data": {
      "text/html": [
       "<div>\n",
       "<style>\n",
       "    .dataframe thead tr:only-child th {\n",
       "        text-align: right;\n",
       "    }\n",
       "\n",
       "    .dataframe thead th {\n",
       "        text-align: left;\n",
       "    }\n",
       "\n",
       "    .dataframe tbody tr th {\n",
       "        vertical-align: top;\n",
       "    }\n",
       "</style>\n",
       "<table border=\"1\" class=\"dataframe\">\n",
       "  <thead>\n",
       "    <tr style=\"text-align: right;\">\n",
       "      <th>max_reviews</th>\n",
       "      <th>1</th>\n",
       "      <th>3</th>\n",
       "      <th>5</th>\n",
       "      <th>10</th>\n",
       "      <th>25</th>\n",
       "      <th>100</th>\n",
       "      <th>1000</th>\n",
       "    </tr>\n",
       "  </thead>\n",
       "  <tbody>\n",
       "    <tr>\n",
       "      <th>percent_total</th>\n",
       "      <td>0.0</td>\n",
       "      <td>7.94</td>\n",
       "      <td>19.25</td>\n",
       "      <td>36.05</td>\n",
       "      <td>59.02</td>\n",
       "      <td>86.35</td>\n",
       "      <td>99.69</td>\n",
       "    </tr>\n",
       "  </tbody>\n",
       "</table>\n",
       "</div>"
      ],
      "text/plain": [
       "max_reviews    1     3      5      10     25     100    1000\n",
       "percent_total   0.0  7.94  19.25  36.05  59.02  86.35  99.69"
      ]
     },
     "execution_count": 5,
     "metadata": {},
     "output_type": "execute_result"
    }
   ],
   "source": [
    "thresh = np.array([1,3,5,10,25,100,1000], dtype=\"int\")\n",
    "prop = [np.round(np.mean(bns.review_count<=i)*100,2) for i in thresh]\n",
    "pd.DataFrame(dict(percent_total = prop), index=thresh).transpose().rename_axis(\"max_reviews\", axis=1)"
   ]
  },
  {
   "cell_type": "markdown",
   "metadata": {},
   "source": [
    "### User\n",
    "The user data table consists of 823317 unique users who have reviewed restaurants in the dataset. We see below that, with the exception of a few “power users” that write hundreds of reviews, most users only choose to review restaurants on occasion. For example, 60% of users wrote 10 or fewer reviews:"
   ]
  },
  {
   "cell_type": "code",
   "execution_count": 6,
   "metadata": {
    "collapsed": false
   },
   "outputs": [
    {
     "data": {
      "image/png": "[encoded data removed]",
      "text/plain": [
       "<matplotlib.figure.Figure at 0x118a0b668>"
      ]
     },
     "metadata": {},
     "output_type": "display_data"
    }
   ],
   "source": [
    "plt.hist(usr['review_count'], bins = 50)\n",
    "plt.yscale('log')\n",
    "plt.title('Histogram for review counts per user')\n",
    "sns.despine();"
   ]
  },
  {
   "cell_type": "code",
   "execution_count": 7,
   "metadata": {
    "collapsed": false
   },
   "outputs": [
    {
     "data": {
      "text/html": [
       "<div>\n",
       "<style>\n",
       "    .dataframe thead tr:only-child th {\n",
       "        text-align: right;\n",
       "    }\n",
       "\n",
       "    .dataframe thead th {\n",
       "        text-align: left;\n",
       "    }\n",
       "\n",
       "    .dataframe tbody tr th {\n",
       "        vertical-align: top;\n",
       "    }\n",
       "</style>\n",
       "<table border=\"1\" class=\"dataframe\">\n",
       "  <thead>\n",
       "    <tr style=\"text-align: right;\">\n",
       "      <th>max_reviews</th>\n",
       "      <th>1</th>\n",
       "      <th>3</th>\n",
       "      <th>5</th>\n",
       "      <th>10</th>\n",
       "      <th>25</th>\n",
       "      <th>100</th>\n",
       "      <th>1000</th>\n",
       "    </tr>\n",
       "  </thead>\n",
       "  <tbody>\n",
       "    <tr>\n",
       "      <th>pct_total</th>\n",
       "      <td>12.74</td>\n",
       "      <td>31.71</td>\n",
       "      <td>44.01</td>\n",
       "      <td>60.65</td>\n",
       "      <td>78.97</td>\n",
       "      <td>93.69</td>\n",
       "      <td>99.87</td>\n",
       "    </tr>\n",
       "  </tbody>\n",
       "</table>\n",
       "</div>"
      ],
      "text/plain": [
       "max_reviews   1      3      5      10     25     100    1000\n",
       "pct_total    12.74  31.71  44.01  60.65  78.97  93.69  99.87"
      ]
     },
     "execution_count": 7,
     "metadata": {},
     "output_type": "execute_result"
    }
   ],
   "source": [
    "thresh = [1,3,5,10,25,100,1000]\n",
    "prop = [np.round(np.mean(usr.review_count<=i)*100,2) for i in thresh]\n",
    "pd.DataFrame(dict(pct_total = prop), index = thresh).transpose().rename_axis(\"max_reviews\", axis=1)"
   ]
  },
  {
   "cell_type": "markdown",
   "metadata": {},
   "source": [
    "### Review\n",
    "Noting the discrete regions and low review counts per user and restaurant, we sensed that matrix sparsity would be a big challenge while using matrix factorization to build a review prediction model. In the context of this problem, a sparse matrix would occur when there is little overlap in the restaurants that individual users review, while a “perfectly full” matrix would occur if every user in the data set reviewed every restaurant in the dataset. In the table below, for a given region or combination of regions, we see the number of unique users and restaurants with reviews in that region. The total possible ratings is simply the product of the unique users and restaurants, and coverage is the proportion of these ratings that are actually in the dataset. Coverage, then serves as a measure of matrix sparsity, should we limit our analysis to that region."
   ]
  },
  {
   "cell_type": "code",
   "execution_count": 8,
   "metadata": {
    "collapsed": true,
    "hide": true
   },
   "outputs": [],
   "source": [
    "cvg = rvw.merge(bns[['business_id','state']], how='left')\n",
    "cvg_u = cvg.groupby('state')['user_id'].nunique().reset_index()\n",
    "cvg_b = cvg.groupby('state')['business_id'].nunique().reset_index()\n",
    "cvg_s = cvg.groupby('state')['stars'].count().reset_index()\n",
    "cvg_all = pd.DataFrame(cvg_u).merge(pd.DataFrame(cvg_b), how='left').merge(pd.DataFrame(cvg_s), how='left')\n",
    "cvg_all['mx_size'] = cvg_all.user_id*cvg_all.business_id\n",
    "cvg_all['mx_coverage'] = round(cvg_all.stars/cvg_all.mx_size,6)\n",
    "cvg_cols = cvg_all.columns\n",
    "def state_mx(states, label):\n",
    "    temp = cvg[cvg.state.isin(states)]\n",
    "    row = pd.DataFrame(dict(state = label,\n",
    "                            user_id = temp.user_id.nunique(),\n",
    "                            business_id = temp.business_id.nunique(),\n",
    "                            stars = len(temp)), index = np.ones(1))\n",
    "    row['mx_size'] = row.user_id*row.business_id\n",
    "    row['mx_coverage'] = row.stars/row.mx_size\n",
    "    return row\n",
    "cvg_all = cvg_all.append(state_mx(['IL','WI'], 'IL+WI'))\n",
    "cvg_all = cvg_all.append(state_mx(['ON','QC'], 'ON+QC'))\n",
    "cvg_all = cvg_all.append(state_mx(['AZ','NV'], 'AZ+NV'))\n",
    "cvg_all = cvg_all.append(state_mx(['NC','SC'], 'NC+SC'))\n",
    "cvg_all = cvg_all.append(state_mx(cvg.state.unique(), 'ALL STATES'))\n",
    "cvg_all = cvg_all.sort_values('mx_coverage')[cvg_cols].reset_index().drop('index', axis=1)\n",
    "cvg_all.columns = ['region','unique_users','unique_businesses','total_ratings','possible_ratings','coverage']"
   ]
  },
  {
   "cell_type": "code",
   "execution_count": 9,
   "metadata": {
    "collapsed": false,
    "scrolled": true
   },
   "outputs": [
    {
     "data": {
      "text/html": [
       "<div>\n",
       "<style>\n",
       "    .dataframe thead tr:only-child th {\n",
       "        text-align: right;\n",
       "    }\n",
       "\n",
       "    .dataframe thead th {\n",
       "        text-align: left;\n",
       "    }\n",
       "\n",
       "    .dataframe tbody tr th {\n",
       "        vertical-align: top;\n",
       "    }\n",
       "</style>\n",
       "<table border=\"1\" class=\"dataframe\">\n",
       "  <thead>\n",
       "    <tr style=\"text-align: right;\">\n",
       "      <th></th>\n",
       "      <th>region</th>\n",
       "      <th>unique_users</th>\n",
       "      <th>unique_businesses</th>\n",
       "      <th>total_ratings</th>\n",
       "      <th>possible_ratings</th>\n",
       "      <th>coverage</th>\n",
       "    </tr>\n",
       "  </thead>\n",
       "  <tbody>\n",
       "    <tr>\n",
       "      <th>0</th>\n",
       "      <td>ALL STATES</td>\n",
       "      <td>823317</td>\n",
       "      <td>51613</td>\n",
       "      <td>2927731</td>\n",
       "      <td>42493860321</td>\n",
       "      <td>0.000069</td>\n",
       "    </tr>\n",
       "    <tr>\n",
       "      <th>1</th>\n",
       "      <td>AZ+NV</td>\n",
       "      <td>539224</td>\n",
       "      <td>17102</td>\n",
       "      <td>1787140</td>\n",
       "      <td>9221808848</td>\n",
       "      <td>0.000194</td>\n",
       "    </tr>\n",
       "    <tr>\n",
       "      <th>2</th>\n",
       "      <td>ON+QC</td>\n",
       "      <td>113331</td>\n",
       "      <td>17201</td>\n",
       "      <td>513411</td>\n",
       "      <td>1949406531</td>\n",
       "      <td>0.000263</td>\n",
       "    </tr>\n",
       "    <tr>\n",
       "      <th>3</th>\n",
       "      <td>AZ</td>\n",
       "      <td>232460</td>\n",
       "      <td>10219</td>\n",
       "      <td>837240</td>\n",
       "      <td>2375508740</td>\n",
       "      <td>0.000352</td>\n",
       "    </tr>\n",
       "    <tr>\n",
       "      <th>4</th>\n",
       "      <td>ON</td>\n",
       "      <td>85786</td>\n",
       "      <td>12634</td>\n",
       "      <td>414444</td>\n",
       "      <td>1083820324</td>\n",
       "      <td>0.000382</td>\n",
       "    </tr>\n",
       "    <tr>\n",
       "      <th>5</th>\n",
       "      <td>NV</td>\n",
       "      <td>326162</td>\n",
       "      <td>6883</td>\n",
       "      <td>949900</td>\n",
       "      <td>2244973046</td>\n",
       "      <td>0.000423</td>\n",
       "    </tr>\n",
       "    <tr>\n",
       "      <th>6</th>\n",
       "      <td>QC</td>\n",
       "      <td>32684</td>\n",
       "      <td>4567</td>\n",
       "      <td>98967</td>\n",
       "      <td>149267828</td>\n",
       "      <td>0.000663</td>\n",
       "    </tr>\n",
       "    <tr>\n",
       "      <th>7</th>\n",
       "      <td>OH</td>\n",
       "      <td>49062</td>\n",
       "      <td>4513</td>\n",
       "      <td>154764</td>\n",
       "      <td>221416806</td>\n",
       "      <td>0.000699</td>\n",
       "    </tr>\n",
       "    <tr>\n",
       "      <th>8</th>\n",
       "      <td>NC+SC</td>\n",
       "      <td>58213</td>\n",
       "      <td>3826</td>\n",
       "      <td>186600</td>\n",
       "      <td>222722938</td>\n",
       "      <td>0.000838</td>\n",
       "    </tr>\n",
       "    <tr>\n",
       "      <th>9</th>\n",
       "      <td>NC</td>\n",
       "      <td>56923</td>\n",
       "      <td>3625</td>\n",
       "      <td>180619</td>\n",
       "      <td>206345875</td>\n",
       "      <td>0.000875</td>\n",
       "    </tr>\n",
       "    <tr>\n",
       "      <th>10</th>\n",
       "      <td>PA</td>\n",
       "      <td>45665</td>\n",
       "      <td>3435</td>\n",
       "      <td>143304</td>\n",
       "      <td>156859275</td>\n",
       "      <td>0.000914</td>\n",
       "    </tr>\n",
       "    <tr>\n",
       "      <th>11</th>\n",
       "      <td>IL+WI</td>\n",
       "      <td>30047</td>\n",
       "      <td>2084</td>\n",
       "      <td>91248</td>\n",
       "      <td>62617948</td>\n",
       "      <td>0.001457</td>\n",
       "    </tr>\n",
       "    <tr>\n",
       "      <th>12</th>\n",
       "      <td>BW</td>\n",
       "      <td>9599</td>\n",
       "      <td>1759</td>\n",
       "      <td>24935</td>\n",
       "      <td>16884641</td>\n",
       "      <td>0.001477</td>\n",
       "    </tr>\n",
       "    <tr>\n",
       "      <th>13</th>\n",
       "      <td>WI</td>\n",
       "      <td>22116</td>\n",
       "      <td>1486</td>\n",
       "      <td>69055</td>\n",
       "      <td>32864376</td>\n",
       "      <td>0.002101</td>\n",
       "    </tr>\n",
       "    <tr>\n",
       "      <th>14</th>\n",
       "      <td>EDH</td>\n",
       "      <td>6784</td>\n",
       "      <td>1396</td>\n",
       "      <td>23751</td>\n",
       "      <td>9470464</td>\n",
       "      <td>0.002508</td>\n",
       "    </tr>\n",
       "    <tr>\n",
       "      <th>15</th>\n",
       "      <td>IL</td>\n",
       "      <td>8232</td>\n",
       "      <td>598</td>\n",
       "      <td>22193</td>\n",
       "      <td>4922736</td>\n",
       "      <td>0.004508</td>\n",
       "    </tr>\n",
       "    <tr>\n",
       "      <th>16</th>\n",
       "      <td>SC</td>\n",
       "      <td>3450</td>\n",
       "      <td>201</td>\n",
       "      <td>5981</td>\n",
       "      <td>693450</td>\n",
       "      <td>0.008625</td>\n",
       "    </tr>\n",
       "    <tr>\n",
       "      <th>17</th>\n",
       "      <td>MLN</td>\n",
       "      <td>696</td>\n",
       "      <td>92</td>\n",
       "      <td>1101</td>\n",
       "      <td>64032</td>\n",
       "      <td>0.017195</td>\n",
       "    </tr>\n",
       "    <tr>\n",
       "      <th>18</th>\n",
       "      <td>HLD</td>\n",
       "      <td>391</td>\n",
       "      <td>60</td>\n",
       "      <td>588</td>\n",
       "      <td>23460</td>\n",
       "      <td>0.025064</td>\n",
       "    </tr>\n",
       "    <tr>\n",
       "      <th>19</th>\n",
       "      <td>FIF</td>\n",
       "      <td>92</td>\n",
       "      <td>27</td>\n",
       "      <td>110</td>\n",
       "      <td>2484</td>\n",
       "      <td>0.044283</td>\n",
       "    </tr>\n",
       "    <tr>\n",
       "      <th>20</th>\n",
       "      <td>C</td>\n",
       "      <td>118</td>\n",
       "      <td>23</td>\n",
       "      <td>168</td>\n",
       "      <td>2714</td>\n",
       "      <td>0.061901</td>\n",
       "    </tr>\n",
       "    <tr>\n",
       "      <th>21</th>\n",
       "      <td>ELN</td>\n",
       "      <td>91</td>\n",
       "      <td>19</td>\n",
       "      <td>117</td>\n",
       "      <td>1729</td>\n",
       "      <td>0.067669</td>\n",
       "    </tr>\n",
       "    <tr>\n",
       "      <th>22</th>\n",
       "      <td>WLN</td>\n",
       "      <td>60</td>\n",
       "      <td>18</td>\n",
       "      <td>87</td>\n",
       "      <td>1080</td>\n",
       "      <td>0.080556</td>\n",
       "    </tr>\n",
       "    <tr>\n",
       "      <th>23</th>\n",
       "      <td>NYK</td>\n",
       "      <td>89</td>\n",
       "      <td>12</td>\n",
       "      <td>101</td>\n",
       "      <td>1068</td>\n",
       "      <td>0.094569</td>\n",
       "    </tr>\n",
       "    <tr>\n",
       "      <th>24</th>\n",
       "      <td>NY</td>\n",
       "      <td>61</td>\n",
       "      <td>11</td>\n",
       "      <td>73</td>\n",
       "      <td>671</td>\n",
       "      <td>0.108793</td>\n",
       "    </tr>\n",
       "    <tr>\n",
       "      <th>25</th>\n",
       "      <td>NI</td>\n",
       "      <td>50</td>\n",
       "      <td>8</td>\n",
       "      <td>58</td>\n",
       "      <td>400</td>\n",
       "      <td>0.145000</td>\n",
       "    </tr>\n",
       "    <tr>\n",
       "      <th>26</th>\n",
       "      <td>01</td>\n",
       "      <td>15</td>\n",
       "      <td>6</td>\n",
       "      <td>24</td>\n",
       "      <td>90</td>\n",
       "      <td>0.266667</td>\n",
       "    </tr>\n",
       "    <tr>\n",
       "      <th>27</th>\n",
       "      <td>ST</td>\n",
       "      <td>21</td>\n",
       "      <td>4</td>\n",
       "      <td>24</td>\n",
       "      <td>84</td>\n",
       "      <td>0.285714</td>\n",
       "    </tr>\n",
       "    <tr>\n",
       "      <th>28</th>\n",
       "      <td>BY</td>\n",
       "      <td>10</td>\n",
       "      <td>3</td>\n",
       "      <td>10</td>\n",
       "      <td>30</td>\n",
       "      <td>0.333333</td>\n",
       "    </tr>\n",
       "    <tr>\n",
       "      <th>29</th>\n",
       "      <td>ESX</td>\n",
       "      <td>7</td>\n",
       "      <td>3</td>\n",
       "      <td>11</td>\n",
       "      <td>21</td>\n",
       "      <td>0.523810</td>\n",
       "    </tr>\n",
       "    <tr>\n",
       "      <th>30</th>\n",
       "      <td>PKN</td>\n",
       "      <td>24</td>\n",
       "      <td>1</td>\n",
       "      <td>24</td>\n",
       "      <td>24</td>\n",
       "      <td>1.000000</td>\n",
       "    </tr>\n",
       "    <tr>\n",
       "      <th>31</th>\n",
       "      <td>KHL</td>\n",
       "      <td>7</td>\n",
       "      <td>1</td>\n",
       "      <td>7</td>\n",
       "      <td>7</td>\n",
       "      <td>1.000000</td>\n",
       "    </tr>\n",
       "    <tr>\n",
       "      <th>32</th>\n",
       "      <td>RCC</td>\n",
       "      <td>7</td>\n",
       "      <td>1</td>\n",
       "      <td>7</td>\n",
       "      <td>7</td>\n",
       "      <td>1.000000</td>\n",
       "    </tr>\n",
       "    <tr>\n",
       "      <th>33</th>\n",
       "      <td>HH</td>\n",
       "      <td>4</td>\n",
       "      <td>1</td>\n",
       "      <td>4</td>\n",
       "      <td>4</td>\n",
       "      <td>1.000000</td>\n",
       "    </tr>\n",
       "    <tr>\n",
       "      <th>34</th>\n",
       "      <td>WA</td>\n",
       "      <td>39</td>\n",
       "      <td>1</td>\n",
       "      <td>39</td>\n",
       "      <td>39</td>\n",
       "      <td>1.000000</td>\n",
       "    </tr>\n",
       "    <tr>\n",
       "      <th>35</th>\n",
       "      <td>WHT</td>\n",
       "      <td>4</td>\n",
       "      <td>1</td>\n",
       "      <td>4</td>\n",
       "      <td>4</td>\n",
       "      <td>1.000000</td>\n",
       "    </tr>\n",
       "    <tr>\n",
       "      <th>36</th>\n",
       "      <td>CA</td>\n",
       "      <td>4</td>\n",
       "      <td>1</td>\n",
       "      <td>4</td>\n",
       "      <td>4</td>\n",
       "      <td>1.000000</td>\n",
       "    </tr>\n",
       "    <tr>\n",
       "      <th>37</th>\n",
       "      <td>XGL</td>\n",
       "      <td>6</td>\n",
       "      <td>1</td>\n",
       "      <td>6</td>\n",
       "      <td>6</td>\n",
       "      <td>1.000000</td>\n",
       "    </tr>\n",
       "    <tr>\n",
       "      <th>38</th>\n",
       "      <td>ZET</td>\n",
       "      <td>3</td>\n",
       "      <td>1</td>\n",
       "      <td>3</td>\n",
       "      <td>3</td>\n",
       "      <td>1.000000</td>\n",
       "    </tr>\n",
       "    <tr>\n",
       "      <th>39</th>\n",
       "      <td>ABE</td>\n",
       "      <td>3</td>\n",
       "      <td>1</td>\n",
       "      <td>3</td>\n",
       "      <td>3</td>\n",
       "      <td>1.000000</td>\n",
       "    </tr>\n",
       "    <tr>\n",
       "      <th>40</th>\n",
       "      <td>3</td>\n",
       "      <td>5</td>\n",
       "      <td>1</td>\n",
       "      <td>5</td>\n",
       "      <td>5</td>\n",
       "      <td>1.000000</td>\n",
       "    </tr>\n",
       "  </tbody>\n",
       "</table>\n",
       "</div>"
      ],
      "text/plain": [
       "        region  unique_users  unique_businesses  total_ratings  \\\n",
       "0   ALL STATES        823317              51613        2927731   \n",
       "1        AZ+NV        539224              17102        1787140   \n",
       "2        ON+QC        113331              17201         513411   \n",
       "3           AZ        232460              10219         837240   \n",
       "4           ON         85786              12634         414444   \n",
       "5           NV        326162               6883         949900   \n",
       "6           QC         32684               4567          98967   \n",
       "7           OH         49062               4513         154764   \n",
       "8        NC+SC         58213               3826         186600   \n",
       "9           NC         56923               3625         180619   \n",
       "10          PA         45665               3435         143304   \n",
       "11       IL+WI         30047               2084          91248   \n",
       "12          BW          9599               1759          24935   \n",
       "13          WI         22116               1486          69055   \n",
       "14         EDH          6784               1396          23751   \n",
       "15          IL          8232                598          22193   \n",
       "16          SC          3450                201           5981   \n",
       "17         MLN           696                 92           1101   \n",
       "18         HLD           391                 60            588   \n",
       "19         FIF            92                 27            110   \n",
       "20           C           118                 23            168   \n",
       "21         ELN            91                 19            117   \n",
       "22         WLN            60                 18             87   \n",
       "23         NYK            89                 12            101   \n",
       "24          NY            61                 11             73   \n",
       "25          NI            50                  8             58   \n",
       "26          01            15                  6             24   \n",
       "27          ST            21                  4             24   \n",
       "28          BY            10                  3             10   \n",
       "29         ESX             7                  3             11   \n",
       "30         PKN            24                  1             24   \n",
       "31         KHL             7                  1              7   \n",
       "32         RCC             7                  1              7   \n",
       "33          HH             4                  1              4   \n",
       "34          WA            39                  1             39   \n",
       "35         WHT             4                  1              4   \n",
       "36          CA             4                  1              4   \n",
       "37         XGL             6                  1              6   \n",
       "38         ZET             3                  1              3   \n",
       "39         ABE             3                  1              3   \n",
       "40           3             5                  1              5   \n",
       "\n",
       "    possible_ratings  coverage  \n",
       "0        42493860321  0.000069  \n",
       "1         9221808848  0.000194  \n",
       "2         1949406531  0.000263  \n",
       "3         2375508740  0.000352  \n",
       "4         1083820324  0.000382  \n",
       "5         2244973046  0.000423  \n",
       "6          149267828  0.000663  \n",
       "7          221416806  0.000699  \n",
       "8          222722938  0.000838  \n",
       "9          206345875  0.000875  \n",
       "10         156859275  0.000914  \n",
       "11          62617948  0.001457  \n",
       "12          16884641  0.001477  \n",
       "13          32864376  0.002101  \n",
       "14           9470464  0.002508  \n",
       "15           4922736  0.004508  \n",
       "16            693450  0.008625  \n",
       "17             64032  0.017195  \n",
       "18             23460  0.025064  \n",
       "19              2484  0.044283  \n",
       "20              2714  0.061901  \n",
       "21              1729  0.067669  \n",
       "22              1080  0.080556  \n",
       "23              1068  0.094569  \n",
       "24               671  0.108793  \n",
       "25               400  0.145000  \n",
       "26                90  0.266667  \n",
       "27                84  0.285714  \n",
       "28                30  0.333333  \n",
       "29                21  0.523810  \n",
       "30                24  1.000000  \n",
       "31                 7  1.000000  \n",
       "32                 7  1.000000  \n",
       "33                 4  1.000000  \n",
       "34                39  1.000000  \n",
       "35                 4  1.000000  \n",
       "36                 4  1.000000  \n",
       "37                 6  1.000000  \n",
       "38                 3  1.000000  \n",
       "39                 3  1.000000  \n",
       "40                 5  1.000000  "
      ]
     },
     "execution_count": 9,
     "metadata": {},
     "output_type": "execute_result"
    }
   ],
   "source": [
    "cvg_all"
   ]
  },
  {
   "cell_type": "markdown",
   "metadata": {},
   "source": [
    "We see that there is a tradeoff between the number of reviews and the sparsity of the matrix: the states at the bottom have full coverage but only a few reviews, while the states/regions at the top have many reviews but a relatively sparse matrix. We also note that matrices encompassing two or more states are necessarily more sparse than those for just one state, as it is rare that a user reviews restaurants in multiple states. In order to make sure that the matrix is not too sparse and to consider a large enough set of reviews, we chose to limit our analysis to Ontario and Quebec, Canada's two most populous provinces. The total number of restaurants in these two provinces make up roughly a third of the total number of restaurants in the dataset, while the resulting matrix would be significantly less sparse than using the entire dataset or the larger Arizona and Nevada region."
   ]
  },
  {
   "cell_type": "markdown",
   "metadata": {},
   "source": [
    "## Cana(data)\n",
    "After narrowing our geographic focus to Canada, we then examine predictors in the dataset that may be related to a user's star rating of a restaurant. We see below that while there is some variation in the distribution of ratings by city, in general the median star rating is aligned across the dataset."
   ]
  },
  {
   "cell_type": "code",
   "execution_count": 10,
   "metadata": {
    "collapsed": true,
    "hide": true
   },
   "outputs": [],
   "source": [
    "bns = pd.read_json(path+\"business.json\", lines=True)\n",
    "bns = bns[bns.categories.apply(lambda x: 'Restaurants' in x)]\n",
    "bns = bns[bns.state.isin(['ON','QC'])]"
   ]
  },
  {
   "cell_type": "code",
   "execution_count": 11,
   "metadata": {
    "collapsed": false
   },
   "outputs": [
    {
     "data": {
      "image/png": "[encoded data removed]",
      "text/plain": [
       "<matplotlib.figure.Figure at 0x118990eb8>"
      ]
     },
     "metadata": {},
     "output_type": "display_data"
    }
   ],
   "source": [
    "top = np.array(bns.city.value_counts()[0:10].index)\n",
    "temp = bns[bns.city.isin(top)]\n",
    "sns.boxplot(y='city', x='stars', data=temp)\n",
    "ax = plt.gca()\n",
    "ax.tick_params(axis='both', which='both', length=0)\n",
    "plt.title('Distribution of star ratings by city')\n",
    "sns.despine(left=True, bottom=True)"
   ]
  },
  {
   "cell_type": "markdown",
   "metadata": {},
   "source": [
    "The most common restaurant cuisines also show minor variations in the distributions of star ratings, though their medians are also largely aligned (with the exception of fast food and burgers, which have lower median ratings)."
   ]
  },
  {
   "cell_type": "code",
   "execution_count": 12,
   "metadata": {
    "collapsed": true,
    "hide": true
   },
   "outputs": [],
   "source": [
    "top_category = []\n",
    "for i in range(len(bns.categories)):\n",
    "    if len(bns.categories.iloc[i]) == 1:\n",
    "        top_category.append(bns.categories.iloc[i][0])\n",
    "    else:\n",
    "        if bns.categories.iloc[i][0] == 'Restaurants':\n",
    "            top_category.append(bns.categories.iloc[i][1])\n",
    "        else:\n",
    "            top_category.append(bns.categories.iloc[i][0])\n",
    "bns['top_category'] = top_category"
   ]
  },
  {
   "cell_type": "code",
   "execution_count": 13,
   "metadata": {
    "collapsed": false
   },
   "outputs": [
    {
     "data": {
      "image/png": "[encoded data removed]",
      "text/plain": [
       "<matplotlib.figure.Figure at 0x11a3baa20>"
      ]
     },
     "metadata": {},
     "output_type": "display_data"
    }
   ],
   "source": [
    "top = np.array(bns.top_category.value_counts()[0:10].index)\n",
    "temp = bns[bns.top_category.isin(top)]\n",
    "sns.boxplot(y='top_category', x='stars', data=temp)\n",
    "ax = plt.gca()\n",
    "ax.tick_params(axis='both', which='both', length=0)\n",
    "plt.title('Distribution of star ratings by cuisine')\n",
    "sns.despine(left=True, bottom=True)"
   ]
  },
  {
   "cell_type": "markdown",
   "metadata": {},
   "source": [
    "The previously discussed predictors cannot be incorporated in our baseline model, as they are perfectly correlated with the individual restaurant, which is already a predictor. Features that don't suffer from this problem could be related to the time when the review was written. For example, we see below that there is little variation in the distribution of the star ratings by day of week that the review was written. However, the means for each day are marginally different, suggesting that there may be some predictive power there."
   ]
  },
  {
   "cell_type": "code",
   "execution_count": 14,
   "metadata": {
    "collapsed": false,
    "hide": true
   },
   "outputs": [],
   "source": [
    "usr = pd.read_csv(path+\"c_user.csv\")\n",
    "usr.yelping_since = pd.to_datetime(usr.yelping_since)\n",
    "rvw = pd.read_csv(path+\"c_review.csv\")\n",
    "rvw.date = pd.to_datetime(rvw.date)\n",
    "rvw['day'] = rvw.date.dt.weekday_name\n",
    "rvw['month'] = rvw.date.dt.strftime('%B')\n",
    "rvw = rvw.merge(usr[['user_id','yelping_since']], how='left')\n",
    "rvw['time_yelping'] = (rvw.date-rvw.yelping_since).dt.days\n",
    "rvw.time_yelping[rvw.time_yelping < 1] = 1\n",
    "rvw['log_time_yelping'] = np.log(rvw.time_yelping)"
   ]
  },
  {
   "cell_type": "code",
   "execution_count": 15,
   "metadata": {
    "collapsed": false
   },
   "outputs": [
    {
     "data": {
      "image/png": "[encoded data removed]",
      "text/plain": [
       "<matplotlib.figure.Figure at 0x10bf24b70>"
      ]
     },
     "metadata": {},
     "output_type": "display_data"
    }
   ],
   "source": [
    "sns.boxplot(y='stars', x='day', data=rvw)\n",
    "ax = plt.gca()\n",
    "ax.tick_params(axis='both', which='both', length=0)\n",
    "plt.title('Distribution of star ratings by review posting day')\n",
    "sns.despine(left=True, bottom=True)"
   ]
  },
  {
   "cell_type": "code",
   "execution_count": 16,
   "metadata": {
    "collapsed": false
   },
   "outputs": [
    {
     "data": {
      "text/html": [
       "<div>\n",
       "<style>\n",
       "    .dataframe thead tr:only-child th {\n",
       "        text-align: right;\n",
       "    }\n",
       "\n",
       "    .dataframe thead th {\n",
       "        text-align: left;\n",
       "    }\n",
       "\n",
       "    .dataframe tbody tr th {\n",
       "        vertical-align: top;\n",
       "    }\n",
       "</style>\n",
       "<table border=\"1\" class=\"dataframe\">\n",
       "  <thead>\n",
       "    <tr style=\"text-align: right;\">\n",
       "      <th>day</th>\n",
       "      <th>Friday</th>\n",
       "      <th>Monday</th>\n",
       "      <th>Saturday</th>\n",
       "      <th>Sunday</th>\n",
       "      <th>Thursday</th>\n",
       "      <th>Tuesday</th>\n",
       "      <th>Wednesday</th>\n",
       "    </tr>\n",
       "  </thead>\n",
       "  <tbody>\n",
       "    <tr>\n",
       "      <th>stars</th>\n",
       "      <td>3.616</td>\n",
       "      <td>3.586</td>\n",
       "      <td>3.589</td>\n",
       "      <td>3.558</td>\n",
       "      <td>3.622</td>\n",
       "      <td>3.615</td>\n",
       "      <td>3.629</td>\n",
       "    </tr>\n",
       "  </tbody>\n",
       "</table>\n",
       "</div>"
      ],
      "text/plain": [
       "day    Friday  Monday  Saturday  Sunday  Thursday  Tuesday  Wednesday\n",
       "stars   3.616   3.586     3.589   3.558     3.622    3.615      3.629"
      ]
     },
     "execution_count": 16,
     "metadata": {},
     "output_type": "execute_result"
    }
   ],
   "source": [
    "pd.DataFrame(rvw.groupby('day')['stars'].mean().round(3)).transpose()"
   ]
  },
  {
   "cell_type": "markdown",
   "metadata": {},
   "source": [
    "The result is similar when examining the distribution of star ratings by month in which the review was written: generally similar distributions, but with slightly different mean star ratings that may add value to the model."
   ]
  },
  {
   "cell_type": "code",
   "execution_count": 17,
   "metadata": {
    "collapsed": false
   },
   "outputs": [
    {
     "data": {
      "image/png": "[encoded data removed]",
      "text/plain": [
       "<matplotlib.figure.Figure at 0x1170fb278>"
      ]
     },
     "metadata": {},
     "output_type": "display_data"
    }
   ],
   "source": [
    "sns.boxplot(y='month', x='stars', data=rvw)\n",
    "ax = plt.gca()\n",
    "ax.tick_params(axis='both', which='both', length=0)\n",
    "plt.title('Distribution of star ratings by review posting month')\n",
    "sns.despine(left=True, bottom=True)"
   ]
  },
  {
   "cell_type": "code",
   "execution_count": 18,
   "metadata": {
    "collapsed": false
   },
   "outputs": [
    {
     "data": {
      "text/html": [
       "<div>\n",
       "<style>\n",
       "    .dataframe thead tr:only-child th {\n",
       "        text-align: right;\n",
       "    }\n",
       "\n",
       "    .dataframe thead th {\n",
       "        text-align: left;\n",
       "    }\n",
       "\n",
       "    .dataframe tbody tr th {\n",
       "        vertical-align: top;\n",
       "    }\n",
       "</style>\n",
       "<table border=\"1\" class=\"dataframe\">\n",
       "  <thead>\n",
       "    <tr style=\"text-align: right;\">\n",
       "      <th>month</th>\n",
       "      <th>April</th>\n",
       "      <th>August</th>\n",
       "      <th>December</th>\n",
       "      <th>February</th>\n",
       "      <th>January</th>\n",
       "      <th>July</th>\n",
       "      <th>June</th>\n",
       "      <th>March</th>\n",
       "      <th>May</th>\n",
       "      <th>November</th>\n",
       "      <th>October</th>\n",
       "      <th>September</th>\n",
       "    </tr>\n",
       "  </thead>\n",
       "  <tbody>\n",
       "    <tr>\n",
       "      <th>stars</th>\n",
       "      <td>3.62</td>\n",
       "      <td>3.595</td>\n",
       "      <td>3.582</td>\n",
       "      <td>3.619</td>\n",
       "      <td>3.621</td>\n",
       "      <td>3.588</td>\n",
       "      <td>3.598</td>\n",
       "      <td>3.619</td>\n",
       "      <td>3.595</td>\n",
       "      <td>3.584</td>\n",
       "      <td>3.594</td>\n",
       "      <td>3.582</td>\n",
       "    </tr>\n",
       "  </tbody>\n",
       "</table>\n",
       "</div>"
      ],
      "text/plain": [
       "month  April  August  December  February  January   July   June  March    May  \\\n",
       "stars   3.62   3.595     3.582     3.619    3.621  3.588  3.598  3.619  3.595   \n",
       "\n",
       "month  November  October  September  \n",
       "stars     3.584    3.594      3.582  "
      ]
     },
     "execution_count": 18,
     "metadata": {},
     "output_type": "execute_result"
    }
   ],
   "source": [
    "pd.DataFrame(rvw.groupby('month')['stars'].mean().round(3)).transpose()"
   ]
  },
  {
   "cell_type": "markdown",
   "metadata": {},
   "source": [
    "We also can incorporate user behavior into the model by accounting for how long the user had been active on Yelp when the review was written. Again, the relationship is subtle, but we see that both really low and really high reviews tend to be written by less seasoned Yelp users, while moderate reviews have the longest average time active on Yelp."
   ]
  },
  {
   "cell_type": "code",
   "execution_count": 19,
   "metadata": {
    "collapsed": false
   },
   "outputs": [
    {
     "data": {
      "image/png": "[encoded data removed]",
      "text/plain": [
       "<matplotlib.figure.Figure at 0x116e72b38>"
      ]
     },
     "metadata": {},
     "output_type": "display_data"
    }
   ],
   "source": [
    "sns.boxplot(y='log_time_yelping', x='stars', data=rvw)\n",
    "ax = plt.gca()\n",
    "ax.tick_params(axis='both', which='both', length=0)\n",
    "plt.title('Distribution of time active by star rating')\n",
    "sns.despine(left=True, bottom=True)"
   ]
  },
  {
   "cell_type": "code",
   "execution_count": 20,
   "metadata": {
    "collapsed": false
   },
   "outputs": [
    {
     "data": {
      "text/html": [
       "<div>\n",
       "<style>\n",
       "    .dataframe thead tr:only-child th {\n",
       "        text-align: right;\n",
       "    }\n",
       "\n",
       "    .dataframe thead th {\n",
       "        text-align: left;\n",
       "    }\n",
       "\n",
       "    .dataframe tbody tr th {\n",
       "        vertical-align: top;\n",
       "    }\n",
       "</style>\n",
       "<table border=\"1\" class=\"dataframe\">\n",
       "  <thead>\n",
       "    <tr style=\"text-align: right;\">\n",
       "      <th>stars</th>\n",
       "      <th>1</th>\n",
       "      <th>2</th>\n",
       "      <th>3</th>\n",
       "      <th>4</th>\n",
       "      <th>5</th>\n",
       "    </tr>\n",
       "  </thead>\n",
       "  <tbody>\n",
       "    <tr>\n",
       "      <th>log_time_yelping</th>\n",
       "      <td>5.133</td>\n",
       "      <td>5.526</td>\n",
       "      <td>5.634</td>\n",
       "      <td>5.523</td>\n",
       "      <td>5.425</td>\n",
       "    </tr>\n",
       "  </tbody>\n",
       "</table>\n",
       "</div>"
      ],
      "text/plain": [
       "stars                 1      2      3      4      5\n",
       "log_time_yelping  5.133  5.526  5.634  5.523  5.425"
      ]
     },
     "execution_count": 20,
     "metadata": {},
     "output_type": "execute_result"
    }
   ],
   "source": [
    "pd.DataFrame(rvw.groupby('stars')['log_time_yelping'].mean().round(3)).transpose()"
   ]
  }
 ],
 "metadata": {
  "kernelspec": {
   "display_name": "Python 3",
   "language": "python",
   "name": "python3"
  },
  "language_info": {
   "codemirror_mode": {
    "name": "ipython",
    "version": 3
   },
   "file_extension": ".py",
   "mimetype": "text/x-python",
   "name": "python",
   "nbconvert_exporter": "python",
   "pygments_lexer": "ipython3",
   "version": "3.6.0"
  }
 },
 "nbformat": 4,
 "nbformat_minor": 2
}
